{
 "cells": [
  {
   "cell_type": "code",
   "execution_count": 25,
   "metadata": {},
   "outputs": [],
   "source": [
    "import cv2\n",
    "import pickle\n",
    "import os.path\n",
    "import numpy as np\n",
    "from imutils import paths\n",
    "from sklearn.model_selection import train_test_split\n",
    "from keras.models import Sequential\n",
    "from keras.layers.convolutional import Conv2D, MaxPooling2D\n",
    "from keras.layers.core import Flatten, Dense\n",
    "import matplotlib.pyplot as plt\n",
    "from sklearn.preprocessing import LabelBinarizer\n",
    "\n",
    "from keras.models import load_model\n",
    "import random\n",
    "\n",
    "LABELS_FILENAME = \"model_label.dat\"\n",
    "LETTER_IMAGES_FOLDER = \"extracted_letter_images\"\n",
    "MODEL_FILENAME = \"captcha_model.hdf5\""
   ]
  },
  {
   "cell_type": "code",
   "execution_count": 26,
   "metadata": {},
   "outputs": [],
   "source": [
    "# start the data and classes array\n",
    "data = []\n",
    "labels = []\n",
    "\n",
    "# check every input image\n",
    "for image_file in paths.list_images(LETTER_IMAGES_FOLDER):    \n",
    "    # load the image and convert it to grayscale\n",
    "    image = cv2.imread(image_file)\n",
    "    image = cv2.cvtColor(image, cv2.COLOR_BGR2GRAY)\n",
    "\n",
    "    # change the letter size to make is be 20x20\n",
    "    image = cv2.resize(image, (20, 20))\n",
    "    \n",
    "    \n",
    "    # add a third dimension to make a 3D tensor which is the way keras spects images to be\n",
    "    image = np.expand_dims(image, axis=2)\n",
    "    \n",
    "        \n",
    "    # takes the name of the letter from the directory it was in\n",
    "    label = image_file.split(os.path.sep)[-2]\n",
    "\n",
    "    # adds the image and the class to the data and labels a lists\n",
    "    data.append(image)\n",
    "    labels.append(label)"
   ]
  },
  {
   "cell_type": "code",
   "execution_count": 27,
   "metadata": {},
   "outputs": [],
   "source": [
    "# turns the image and the label into numpy arrays and normalizes fields in the image\n",
    "data = np.array(data, dtype=\"float\") / 255.0\n",
    "labels = np.array(labels)"
   ]
  },
  {
   "cell_type": "code",
   "execution_count": 28,
   "metadata": {
    "scrolled": false
   },
   "outputs": [],
   "source": [
    "# devides the data into train and test set\n",
    "(X_train, X_test, Y_train, Y_test) = train_test_split(data, labels, test_size=0.25, random_state=0)\n",
    "\n",
    "# turns the labels into one-hot encoded vectors\n",
    "lb = LabelBinarizer().fit(Y_train)\n",
    "Y_train = lb.transform(Y_train)\n",
    "Y_test = lb.transform(Y_test)\n",
    "\n",
    "# saves the fittet transformer\n",
    "pickle.dump(lb, open(LABELS_FILENAME, 'wb'))\n",
    "\n",
    "# takes away one dimension in order to display the image\n",
    "# result = X_train[50][:, :, 0]\n",
    "\n",
    "# print(result.shape)\n",
    "# plt.imshow(result, cmap = plt.cm.binary)\n",
    "# plt.title(Y_train[50])"
   ]
  },
  {
   "cell_type": "code",
   "execution_count": 29,
   "metadata": {
    "scrolled": true
   },
   "outputs": [
    {
     "name": "stdout",
     "output_type": "stream",
     "text": [
      "Model: \"sequential_3\"\n",
      "_________________________________________________________________\n",
      " Layer (type)                Output Shape              Param #   \n",
      "=================================================================\n",
      " conv2d_6 (Conv2D)           (None, 19, 19, 20)        100       \n",
      "                                                                 \n",
      " max_pooling2d_6 (MaxPooling  (None, 9, 9, 20)         0         \n",
      " 2D)                                                             \n",
      "                                                                 \n",
      " conv2d_7 (Conv2D)           (None, 8, 8, 50)          4050      \n",
      "                                                                 \n",
      " max_pooling2d_7 (MaxPooling  (None, 4, 4, 50)         0         \n",
      " 2D)                                                             \n",
      "                                                                 \n",
      " flatten_3 (Flatten)         (None, 800)               0         \n",
      "                                                                 \n",
      " dense_6 (Dense)             (None, 500)               400500    \n",
      "                                                                 \n",
      " dense_7 (Dense)             (None, 36)                18036     \n",
      "                                                                 \n",
      "=================================================================\n",
      "Total params: 422,686\n",
      "Trainable params: 422,686\n",
      "Non-trainable params: 0\n",
      "_________________________________________________________________\n"
     ]
    }
   ],
   "source": [
    "# Build the Neuralnet!\n",
    "model = Sequential()\n",
    "# Defines the convolutional layers\n",
    "model.add(Conv2D(20, (2,2), input_shape=(20, 20, 1), activation=\"relu\"))\n",
    "model.add(MaxPooling2D(2))\n",
    "\n",
    "model.add(Conv2D(50, (2,2), activation=\"relu\"))\n",
    "model.add(MaxPooling2D(2))\n",
    "\n",
    "model.add(Flatten())\n",
    "model.add(Dense(500, activation=\"relu\"))\n",
    "# output layer with one neuron for each class\n",
    "model.add(Dense(36, activation=\"softmax\"))\n",
    "\n",
    "# compiles the nn\n",
    "model.compile(loss=\"categorical_crossentropy\", \n",
    "              optimizer=\"adam\", \n",
    "              metrics=[\"accuracy\"])\n",
    "\n",
    "model.summary()"
   ]
  },
  {
   "cell_type": "code",
   "execution_count": 30,
   "metadata": {
    "scrolled": false
   },
   "outputs": [
    {
     "name": "stdout",
     "output_type": "stream",
     "text": [
      "Epoch 1/50\n",
      "608/608 [==============================] - 9s 15ms/step - loss: 0.9507 - accuracy: 0.7726 - val_loss: 0.4673 - val_accuracy: 0.8791\n",
      "Epoch 2/50\n",
      "608/608 [==============================] - 9s 14ms/step - loss: 0.3746 - accuracy: 0.9023 - val_loss: 0.3479 - val_accuracy: 0.9050\n",
      "Epoch 3/50\n",
      "608/608 [==============================] - 8s 13ms/step - loss: 0.2766 - accuracy: 0.9250 - val_loss: 0.2997 - val_accuracy: 0.9174\n",
      "Epoch 4/50\n",
      "608/608 [==============================] - 8s 13ms/step - loss: 0.2214 - accuracy: 0.9379 - val_loss: 0.2531 - val_accuracy: 0.9324\n",
      "Epoch 5/50\n",
      "608/608 [==============================] - 8s 13ms/step - loss: 0.1787 - accuracy: 0.9488 - val_loss: 0.2462 - val_accuracy: 0.9336\n",
      "Epoch 6/50\n",
      "608/608 [==============================] - 8s 12ms/step - loss: 0.1492 - accuracy: 0.9559 - val_loss: 0.2438 - val_accuracy: 0.9352\n",
      "Epoch 7/50\n",
      "608/608 [==============================] - 8s 13ms/step - loss: 0.1234 - accuracy: 0.9639 - val_loss: 0.2448 - val_accuracy: 0.9359\n",
      "Epoch 8/50\n",
      "608/608 [==============================] - 8s 13ms/step - loss: 0.1041 - accuracy: 0.9684 - val_loss: 0.2443 - val_accuracy: 0.9382\n",
      "Epoch 9/50\n",
      "608/608 [==============================] - 8s 12ms/step - loss: 0.0877 - accuracy: 0.9726 - val_loss: 0.2456 - val_accuracy: 0.9391\n",
      "Epoch 10/50\n",
      "608/608 [==============================] - 8s 12ms/step - loss: 0.0743 - accuracy: 0.9764 - val_loss: 0.2576 - val_accuracy: 0.9391\n",
      "Epoch 11/50\n",
      "608/608 [==============================] - 8s 13ms/step - loss: 0.0615 - accuracy: 0.9807 - val_loss: 0.2655 - val_accuracy: 0.9383\n",
      "Epoch 12/50\n",
      "608/608 [==============================] - 9s 15ms/step - loss: 0.0591 - accuracy: 0.9818 - val_loss: 0.2770 - val_accuracy: 0.9393\n",
      "Epoch 13/50\n",
      "608/608 [==============================] - 10s 17ms/step - loss: 0.0523 - accuracy: 0.9838 - val_loss: 0.2828 - val_accuracy: 0.9401\n",
      "Epoch 14/50\n",
      "608/608 [==============================] - 10s 16ms/step - loss: 0.0422 - accuracy: 0.9876 - val_loss: 0.2897 - val_accuracy: 0.9414\n",
      "Epoch 15/50\n",
      "608/608 [==============================] - 8s 13ms/step - loss: 0.0383 - accuracy: 0.9880 - val_loss: 0.2880 - val_accuracy: 0.9412\n",
      "Epoch 16/50\n",
      "608/608 [==============================] - 8s 13ms/step - loss: 0.0392 - accuracy: 0.9876 - val_loss: 0.2882 - val_accuracy: 0.9445\n",
      "Epoch 17/50\n",
      "608/608 [==============================] - 8s 13ms/step - loss: 0.0402 - accuracy: 0.9878 - val_loss: 0.3248 - val_accuracy: 0.9383\n",
      "Epoch 18/50\n",
      "608/608 [==============================] - 7s 12ms/step - loss: 0.0342 - accuracy: 0.9898 - val_loss: 0.2936 - val_accuracy: 0.9441\n",
      "Epoch 19/50\n",
      "608/608 [==============================] - 7s 12ms/step - loss: 0.0259 - accuracy: 0.9928 - val_loss: 0.3139 - val_accuracy: 0.9449\n",
      "Epoch 20/50\n",
      "608/608 [==============================] - 7s 11ms/step - loss: 0.0276 - accuracy: 0.9918 - val_loss: 0.3532 - val_accuracy: 0.9400\n",
      "Epoch 21/50\n",
      "608/608 [==============================] - 7s 11ms/step - loss: 0.0402 - accuracy: 0.9874 - val_loss: 0.3304 - val_accuracy: 0.9394\n",
      "Epoch 22/50\n",
      "608/608 [==============================] - 7s 11ms/step - loss: 0.0289 - accuracy: 0.9914 - val_loss: 0.3136 - val_accuracy: 0.9441\n",
      "Epoch 23/50\n",
      "608/608 [==============================] - 7s 12ms/step - loss: 0.0197 - accuracy: 0.9940 - val_loss: 0.3331 - val_accuracy: 0.9451\n",
      "Epoch 24/50\n",
      "608/608 [==============================] - 7s 11ms/step - loss: 0.0213 - accuracy: 0.9940 - val_loss: 0.3812 - val_accuracy: 0.9402\n",
      "Epoch 25/50\n",
      "608/608 [==============================] - 7s 11ms/step - loss: 0.0302 - accuracy: 0.9908 - val_loss: 0.3463 - val_accuracy: 0.9419\n",
      "Epoch 26/50\n",
      "608/608 [==============================] - 7s 11ms/step - loss: 0.0213 - accuracy: 0.9939 - val_loss: 0.3722 - val_accuracy: 0.9410\n",
      "Epoch 27/50\n",
      "608/608 [==============================] - 7s 11ms/step - loss: 0.0207 - accuracy: 0.9936 - val_loss: 0.3596 - val_accuracy: 0.9431\n",
      "Epoch 28/50\n",
      "608/608 [==============================] - 7s 11ms/step - loss: 0.0245 - accuracy: 0.9921 - val_loss: 0.3639 - val_accuracy: 0.9438\n",
      "Epoch 29/50\n",
      "608/608 [==============================] - 7s 11ms/step - loss: 0.0201 - accuracy: 0.9941 - val_loss: 0.3671 - val_accuracy: 0.9429\n",
      "Epoch 30/50\n",
      "608/608 [==============================] - 7s 11ms/step - loss: 0.0190 - accuracy: 0.9944 - val_loss: 0.3869 - val_accuracy: 0.9421\n",
      "Epoch 31/50\n",
      "608/608 [==============================] - 7s 11ms/step - loss: 0.0146 - accuracy: 0.9958 - val_loss: 0.3582 - val_accuracy: 0.9455\n",
      "Epoch 32/50\n",
      "608/608 [==============================] - 7s 12ms/step - loss: 0.0237 - accuracy: 0.9932 - val_loss: 0.4534 - val_accuracy: 0.9374\n",
      "Epoch 33/50\n",
      "608/608 [==============================] - 7s 11ms/step - loss: 0.0211 - accuracy: 0.9937 - val_loss: 0.3807 - val_accuracy: 0.9435\n",
      "Epoch 34/50\n",
      "608/608 [==============================] - 7s 11ms/step - loss: 0.0150 - accuracy: 0.9956 - val_loss: 0.3653 - val_accuracy: 0.9457\n",
      "Epoch 35/50\n",
      "608/608 [==============================] - 7s 11ms/step - loss: 0.0131 - accuracy: 0.9960 - val_loss: 0.3990 - val_accuracy: 0.9432\n",
      "Epoch 36/50\n",
      "608/608 [==============================] - 7s 11ms/step - loss: 0.0172 - accuracy: 0.9948 - val_loss: 0.3862 - val_accuracy: 0.9448\n",
      "Epoch 37/50\n",
      "608/608 [==============================] - 7s 11ms/step - loss: 0.0152 - accuracy: 0.9954 - val_loss: 0.3839 - val_accuracy: 0.9458\n",
      "Epoch 38/50\n",
      "608/608 [==============================] - 7s 11ms/step - loss: 0.0151 - accuracy: 0.9953 - val_loss: 0.3976 - val_accuracy: 0.9436\n",
      "Epoch 39/50\n",
      "608/608 [==============================] - 7s 11ms/step - loss: 0.0184 - accuracy: 0.9941 - val_loss: 0.3960 - val_accuracy: 0.9441\n",
      "Epoch 40/50\n",
      "608/608 [==============================] - 7s 11ms/step - loss: 0.0105 - accuracy: 0.9972 - val_loss: 0.4309 - val_accuracy: 0.9415\n",
      "Epoch 41/50\n",
      "608/608 [==============================] - 7s 11ms/step - loss: 0.0184 - accuracy: 0.9947 - val_loss: 0.4142 - val_accuracy: 0.9422\n",
      "Epoch 42/50\n",
      "608/608 [==============================] - 7s 11ms/step - loss: 0.0180 - accuracy: 0.9948 - val_loss: 0.4097 - val_accuracy: 0.9434\n",
      "Epoch 43/50\n",
      "608/608 [==============================] - 7s 11ms/step - loss: 0.0105 - accuracy: 0.9973 - val_loss: 0.4057 - val_accuracy: 0.9459\n",
      "Epoch 44/50\n",
      "608/608 [==============================] - 7s 11ms/step - loss: 0.0086 - accuracy: 0.9976 - val_loss: 0.3989 - val_accuracy: 0.9474\n",
      "Epoch 45/50\n",
      "608/608 [==============================] - 7s 11ms/step - loss: 0.0159 - accuracy: 0.9953 - val_loss: 0.4806 - val_accuracy: 0.9360\n",
      "Epoch 46/50\n",
      "608/608 [==============================] - 7s 12ms/step - loss: 0.0178 - accuracy: 0.9950 - val_loss: 0.4320 - val_accuracy: 0.9451\n",
      "Epoch 47/50\n",
      "608/608 [==============================] - 7s 11ms/step - loss: 0.0122 - accuracy: 0.9966 - val_loss: 0.4661 - val_accuracy: 0.9430\n",
      "Epoch 48/50\n",
      "608/608 [==============================] - 8s 13ms/step - loss: 0.0112 - accuracy: 0.9971 - val_loss: 0.4373 - val_accuracy: 0.9443\n",
      "Epoch 49/50\n",
      "608/608 [==============================] - 8s 13ms/step - loss: 0.0096 - accuracy: 0.9971 - val_loss: 0.4410 - val_accuracy: 0.9443\n",
      "Epoch 50/50\n",
      "608/608 [==============================] - 8s 13ms/step - loss: 0.0090 - accuracy: 0.9976 - val_loss: 0.4777 - val_accuracy: 0.9417\n"
     ]
    }
   ],
   "source": [
    "history = model.fit(X_train, Y_train, epochs=50, validation_split=0.4, batch_size=64, verbose=1)"
   ]
  },
  {
   "cell_type": "code",
   "execution_count": 31,
   "metadata": {
    "scrolled": true
   },
   "outputs": [
    {
     "data": {
      "text/plain": "<Figure size 640x480 with 1 Axes>",
      "image/png": "[encoded data removed]"
     },
     "metadata": {},
     "output_type": "display_data"
    }
   ],
   "source": [
    "# plots the model's performance\n",
    "acc = history.history['accuracy']\n",
    "val_acc = history.history[\"val_accuracy\"]\n",
    "epochs = range(len(acc))\n",
    "\n",
    "plt.plot(epochs, acc, 'b', label='Training Accuracy')\n",
    "plt.plot(epochs, val_acc, 'r', label='Validation accuracy')\n",
    "plt.title('Model accuracy')\n",
    "plt.legend()\n",
    "plt.show()"
   ]
  },
  {
   "cell_type": "code",
   "execution_count": 32,
   "metadata": {},
   "outputs": [
    {
     "name": "stdout",
     "output_type": "stream",
     "text": [
      "675/675 [==============================] - 2s 3ms/step - loss: 0.4636 - accuracy: 0.9411\n"
     ]
    }
   ],
   "source": [
    "loss, accuracy = model.evaluate(X_test, Y_test)"
   ]
  },
  {
   "cell_type": "code",
   "execution_count": 33,
   "metadata": {},
   "outputs": [
    {
     "data": {
      "text/plain": "0.9410783648490906"
     },
     "execution_count": 33,
     "metadata": {},
     "output_type": "execute_result"
    }
   ],
   "source": [
    "accuracy"
   ]
  },
  {
   "cell_type": "code",
   "execution_count": 34,
   "metadata": {},
   "outputs": [],
   "source": [
    "# Saves the model for latter use\n",
    "model.save(MODEL_FILENAME)"
   ]
  }
 ],
 "metadata": {
  "kernelspec": {
   "display_name": "Python 3",
   "language": "python",
   "name": "python3"
  },
  "language_info": {
   "codemirror_mode": {
    "name": "ipython",
    "version": 3
   },
   "file_extension": ".py",
   "mimetype": "text/x-python",
   "name": "python",
   "nbconvert_exporter": "python",
   "pygments_lexer": "ipython3",
   "version": "3.7.3"
  }
 },
 "nbformat": 4,
 "nbformat_minor": 2
}
